{
 "cells": [
  {
   "cell_type": "markdown",
   "metadata": {},
   "source": [
    "## Travel Matching Problem"
   ]
  },
  {
   "cell_type": "markdown",
   "metadata": {},
   "source": [
    "### Import packages"
   ]
  },
  {
   "cell_type": "code",
   "execution_count": 148,
   "metadata": {
    "collapsed": true
   },
   "outputs": [],
   "source": [
    "import json\n",
    "import re\n",
    "import pandas as pd\n",
    "import numpy as np\n",
    "from nltk.sentiment.vader import SentimentIntensityAnalyzer\n",
    "import twython\n",
    "from sklearn.metrics.pairwise import paired_distances, euclidean_distances\n",
    "from sklearn.cluster import KMeans\n",
    "import matplotlib.pyplot as plt\n",
    "%matplotlib inline"
   ]
  },
  {
   "cell_type": "markdown",
   "metadata": {},
   "source": [
    "### Data Processing & Scoring\n",
    "processData() takes raw data as an input and gives out a pandas Data Frame after data processing and scoring based on features"
   ]
  },
  {
   "cell_type": "code",
   "execution_count": 149,
   "metadata": {
    "collapsed": false
   },
   "outputs": [],
   "source": [
    "def processData():\n",
    "    sid = SentimentIntensityAnalyzer()\n",
    "    \n",
    "    with open('small_analysis_data.json', encoding='utf8') as json_data:\n",
    "        travel_data = json.load(json_data)\n",
    "    \n",
    "    i = 0\n",
    "    travel_dict = {}\n",
    "\n",
    "    for tr_pckg in travel_data:\n",
    "        tr_details_dict = {}\n",
    "\n",
    "        if tr_pckg.get('address', {}).get('country'):\n",
    "            usr_country = tr_pckg['address']['country']\n",
    "        else:\n",
    "            usr_country = 'NO_COUNTRY'\n",
    "\n",
    "        if tr_pckg.get('address', {}).get('locality'):\n",
    "            usr_locality = tr_pckg['address']['locality']\n",
    "        else:\n",
    "            usr_locality = 'NO_LOCALITY'\n",
    "\n",
    "        if tr_pckg.get('address', {}).get('street'):\n",
    "            usr_street = tr_pckg['address']['street']\n",
    "        else:\n",
    "            usr_street = 'NO_STREET'\n",
    "\n",
    "        if tr_pckg.get('parents'):\n",
    "            num_of_parents = len(tr_pckg['parents'])\n",
    "            if num_of_parents > 2:\n",
    "                usr_place = tr_pckg['parents'][2]\n",
    "            else:\n",
    "                usr_place = 'NO_PLACE'\n",
    "        else:\n",
    "            usr_place = 'NO_PLACE'\n",
    "\n",
    "        if tr_pckg.get('name'):\n",
    "            usr_destination_name = tr_pckg['name']\n",
    "        else:\n",
    "            usr_destination_name = 'NO_DESTINATION'\n",
    "\n",
    "        if tr_pckg.get('category_info', {}).get('category_type'):\n",
    "            usr_tr_category = tr_pckg['category_info']['category_type']\n",
    "        else:\n",
    "            usr_tr_category = 'NO_CATEGORY'\n",
    "\n",
    "        if tr_pckg.get('category_info', {}).get('category_type'):\n",
    "            usr_tr_category = tr_pckg['category_info']['category_type'][0]\n",
    "        else:\n",
    "            usr_tr_category = 'NO_CATEGORY'\n",
    "\n",
    "        if tr_pckg.get('category_info', {}).get('sub_category_type'):\n",
    "            usr_tr_subcategory = tr_pckg['category_info']['sub_category_type'][0]\n",
    "        else:\n",
    "            usr_tr_subcategory = 'NO_SUBCATEGORY'\n",
    "\n",
    "        if tr_pckg.get('star_rating'):\n",
    "            usr_star_rating = tr_pckg['star_rating']\n",
    "        else:\n",
    "            usr_star_rating = 2.5\n",
    "\n",
    "        if tr_pckg.get('url'):\n",
    "            usr_url = tr_pckg['url']\n",
    "        else:\n",
    "            usr_url = 'NO_URL'\n",
    "\n",
    "        if tr_pckg.get('num_reviews'):\n",
    "            usr_num_reviews = tr_pckg['num_reviews']\n",
    "        else:\n",
    "            usr_num_reviews = 0\n",
    "\n",
    "        if tr_pckg.get('inside_city_rank'):\n",
    "            s = tr_pckg['inside_city_rank']\n",
    "            its_rank = int(re.findall('\\d+', s)[0])\n",
    "            tot_ranks = int(re.findall('\\d+', s)[1])\n",
    "            usr_inside_city_score = round(1 - its_rank / tot_ranks, 2)\n",
    "        else:\n",
    "            usr_inside_city_score = 0\n",
    "\n",
    "        tr_details_dict['me_country'] = usr_country\n",
    "        tr_details_dict['me_place'] = usr_place\n",
    "        tr_details_dict['me_locality'] = usr_locality\n",
    "        tr_details_dict['me_street'] = usr_street\n",
    "        tr_details_dict['me_destination'] = usr_destination_name\n",
    "        tr_details_dict['me_category'] = usr_tr_category\n",
    "        tr_details_dict['me_sub_category'] = usr_tr_subcategory\n",
    "        tr_details_dict['usr_star_rating'] = usr_star_rating\n",
    "        tr_details_dict['me_url'] = usr_url\n",
    "        tr_details_dict['usr_num_reviews'] = usr_num_reviews\n",
    "        tr_details_dict['usr_inside_city_score'] = usr_inside_city_score\n",
    "\n",
    "        if tr_pckg.get('detailed_ratings'):\n",
    "            for rating, val in tr_pckg['detailed_ratings'].items():\n",
    "                total = sum(val.values(), 0.0)\n",
    "                val = {k: round(v / (total + 0.00001), 4) for k, v in val.items()}\n",
    "                tr_details_dict.update(val)\n",
    "\n",
    "        if tr_pckg.get('tags'):\n",
    "            tag_dict = {}\n",
    "            for tag in tr_pckg['tags']:\n",
    "                if tag not in tag_dict:\n",
    "                    tag_dict[tag] = sid.polarity_scores(tag)['compound']\n",
    "            tr_details_dict.update(tag_dict)\n",
    "\n",
    "        travel_dict[i] = tr_details_dict\n",
    "        i += 1\n",
    "        \n",
    "    travel_df = pd.DataFrame.from_dict({i: travel_dict[i] for i in travel_dict.keys()}, orient='index')\n",
    "    travel_df.fillna(0, inplace=True)\n",
    "    \n",
    "    return travel_df, travel_dict"
   ]
  },
  {
   "cell_type": "code",
   "execution_count": 150,
   "metadata": {
    "collapsed": false
   },
   "outputs": [],
   "source": [
    "travel_df, travel_dict = processData()"
   ]
  },
  {
   "cell_type": "markdown",
   "metadata": {},
   "source": [
    "### Travel Categorization and Aggregate Scoring"
   ]
  },
  {
   "cell_type": "code",
   "execution_count": 151,
   "metadata": {
    "collapsed": true
   },
   "outputs": [],
   "source": [
    "def getCategory(x, category_df):\n",
    "    return category_df[category_df['MM_ACTIVITIES'] == x]['MM_CATEGORY'].values[0]\n",
    "\n",
    "def selectScoreColumns(df):\n",
    "    scoring_columns = []\n",
    "    for item in df.columns.tolist():\n",
    "        if re.match('^me_', item):\n",
    "            pass\n",
    "        else:\n",
    "            scoring_columns.append(item)\n",
    "    return scoring_columns\n",
    "    \n",
    "def performCategorization(travel_df):\n",
    "    category_df = pd.read_csv('Category.csv')\n",
    "    travel_df['me_travel_category'] = travel_df['me_category'].apply(lambda x: getCategory(x, category_df))\n",
    "    travel_df = travel_df[travel_df['me_travel_category'] != 'NO_CATEGORY']\n",
    "    \n",
    "    scoring_columns = selectScoreColumns(travel_df)\n",
    "    travel_df['me_aggregate_score'] = travel_df[scoring_columns].apply(lambda x: np.mean(x),  axis = 1) # compute mean score by row\n",
    "    \n",
    "    return travel_df"
   ]
  },
  {
   "cell_type": "code",
   "execution_count": 152,
   "metadata": {
    "collapsed": false
   },
   "outputs": [
    {
     "name": "stderr",
     "output_type": "stream",
     "text": [
      "C:\\Users\\Suvro\\Anaconda3\\lib\\site-packages\\ipykernel\\__main__.py:19: SettingWithCopyWarning: \n",
      "A value is trying to be set on a copy of a slice from a DataFrame.\n",
      "Try using .loc[row_indexer,col_indexer] = value instead\n",
      "\n",
      "See the caveats in the documentation: http://pandas.pydata.org/pandas-docs/stable/indexing.html#indexing-view-versus-copy\n"
     ]
    }
   ],
   "source": [
    "travel_df = performCategorization(travel_df)"
   ]
  },
  {
   "cell_type": "markdown",
   "metadata": {},
   "source": [
    "### Search Algorithm"
   ]
  },
  {
   "cell_type": "code",
   "execution_count": 153,
   "metadata": {
    "collapsed": true
   },
   "outputs": [],
   "source": [
    "def findOptimalCluster(similarity_score):\n",
    "    MAX_K = 10 # to perform the grid search\n",
    "\n",
    "    total_rec = len(similarity_score)\n",
    "    X = similarity_score\n",
    "    \n",
    "    if total_rec > MAX_K:\n",
    "        ks = range(1, MAX_K + 1)\n",
    "\n",
    "        inertias = np.zeros(MAX_K)\n",
    "        diff = np.zeros(MAX_K)\n",
    "        diff2 = np.zeros(MAX_K)\n",
    "        diff3 = np.zeros(MAX_K)\n",
    "\n",
    "        for k in ks:\n",
    "            kmeans = KMeans(k).fit(X)\n",
    "            inertias[k - 1] = kmeans.inertia_\n",
    "            # first difference    \n",
    "            if k > 1:\n",
    "                diff[k - 1] = inertias[k - 1] - inertias[k - 2]\n",
    "            # second difference\n",
    "            if k > 2:\n",
    "                diff2[k - 1] = diff[k - 1] - diff[k - 2]\n",
    "            # third difference\n",
    "            if k > 3:\n",
    "                diff3[k - 1] = diff2[k - 1] - diff2[k - 2]\n",
    "\n",
    "        elbow = np.argmin(diff3[3:]) + 3\n",
    "\n",
    "        optimal_num_cluster = ks[elbow]\n",
    "\n",
    "        plt.plot(ks, inertias, \"b*-\")\n",
    "        plt.plot(ks[elbow], inertias[elbow], marker='o', markersize=12,\n",
    "                 markeredgewidth=2, markeredgecolor='r', markerfacecolor=None)\n",
    "        plt.ylabel(\"Inertia\")\n",
    "        plt.xlabel(\"K\")\n",
    "        plt.show()\n",
    "        \n",
    "    else:\n",
    "        optimal_num_cluster = 1    \n",
    "    \n",
    "    return optimal_num_cluster"
   ]
  },
  {
   "cell_type": "code",
   "execution_count": 154,
   "metadata": {
    "collapsed": true
   },
   "outputs": [],
   "source": [
    "def searchTravel(input_country, input_category, travel_df):\n",
    "    scoring_columns = selectScoreColumns(travel_df)\n",
    "    \n",
    "    search_df = travel_df[travel_df['me_country'].apply(lambda x: x.lower()) == input_country.lower()]\n",
    "    search_df = search_df[search_df['me_travel_category'].apply(lambda x: x.lower()) == input_category.lower()]\n",
    "    \n",
    "    similarity_score = euclidean_distances(search_df[scoring_columns].as_matrix())\n",
    "    k = findOptimalCluster(similarity_score)\n",
    "    kmeans = KMeans(k).fit(similarity_score)\n",
    "    search_df['me_group'] = kmeans.labels_\n",
    "    \n",
    "    return search_df, k    "
   ]
  },
  {
   "cell_type": "code",
   "execution_count": 155,
   "metadata": {
    "collapsed": true
   },
   "outputs": [],
   "source": [
    "def main(travel_df):\n",
    "    print(travel_df['me_country'].unique())\n",
    "    input_country = input('\\n Hey where are you going? pls select one from the list ? ')\n",
    "\n",
    "    if input_country.lower() in [item.lower() for item in travel_df['me_country'].unique()]:\n",
    "        print('\\n')\n",
    "        print(travel_df['me_travel_category'].unique())\n",
    "        input_category = input('\\n Hey what kind of trip is it ? pls select one from the list ? ')\n",
    "\n",
    "        if input_category.lower() in [item.lower() for item in travel_df['me_travel_category'].unique()]:\n",
    "            print('\\n Please relax, we will find your next destination')\n",
    "            print('\\n Searching destination ...')\n",
    "\n",
    "            # Calling the Search Function-\n",
    "            search_df, k = searchTravel(input_country, input_category, travel_df)\n",
    "            \n",
    "            # Start printing---\n",
    "            \n",
    "            print('\\n\\t\\t\\t\\t Country : ', input_country.upper())\n",
    "            print('\\t\\t\\t\\t Category: ', input_category.upper())\n",
    "            print('\\n')\n",
    "            \n",
    "            for i in range(k):\n",
    "                df = search_df[search_df['me_group'] == i]\n",
    "                df = df.sort_values('me_aggregate_score', ascending=False)\n",
    "                \n",
    "                print('\\t\\tOur recommended travel group: ', input_country.upper(), i+1, '\\n')                \n",
    "                print(df.head()[['me_place', 'me_destination', 'me_category', 'me_sub_category', 'me_aggregate_score']])\n",
    "                print('\\n\\n')\n",
    "            \n",
    "            print('\\n\\t Hoorah !!! its time for party, enjoy the recommendations')\n",
    "        else:\n",
    "            print('\\n I am sure it should be fun, but we are not there yet, please select from the list ')\n",
    "\n",
    "    else:\n",
    "        print('\\n Sorry we are not there yet, please select the country from the list')"
   ]
  },
  {
   "cell_type": "code",
   "execution_count": 156,
   "metadata": {
    "collapsed": false
   },
   "outputs": [
    {
     "name": "stdout",
     "output_type": "stream",
     "text": [
      "['India' 'Indonesia' 'Malaysia' 'Thailand' 'Singapore']\n",
      "\n",
      " Hey where are you going? pls select one from the list ? Thailand\n",
      "\n",
      "\n",
      "['Adventure' 'Sight-seeing' 'Relaxation']\n",
      "\n",
      " Hey what kind of trip is it ? pls select one from the list ? Adventure\n",
      "\n",
      " Please relax, we will find your next destination\n",
      "\n",
      " Searching destination ...\n"
     ]
    },
    {
     "data": {
      "image/png": "[encoded data removed]",
      "text/plain": [
       "<matplotlib.figure.Figure at 0x23733a6f438>"
      ]
     },
     "metadata": {},
     "output_type": "display_data"
    },
    {
     "name": "stdout",
     "output_type": "stream",
     "text": [
      "\n",
      "\t\t\t\t Country :  THAILAND\n",
      "\t\t\t\t Category:  ADVENTURE\n",
      "\n",
      "\n",
      "\t\tOur recommended travel group:  THAILAND 1 \n",
      "\n",
      "                 me_place                      me_destination     me_category  \\\n",
      "685  Surat Thani Province               Phangan Bicycle Tours           Tours   \n",
      "491               Bangkok                   Bangkok Day Tours           Tours   \n",
      "66                Bangkok  SpiceRoads Cycle Tours - Day Tours           Tours   \n",
      "684        Krabi Province                    Khlong Dao Beach  Nature & Parks   \n",
      "350  Surat Thani Province                         Asia Divers           Tours   \n",
      "\n",
      "        me_sub_category  me_aggregate_score  \n",
      "685          Bike Tours            0.062808  \n",
      "491   Sightseeing Tours            0.059529  \n",
      "66           Bike Tours            0.058783  \n",
      "684             Beaches            0.056484  \n",
      "350  Scuba & Snorkeling            0.051840  \n",
      "\n",
      "\n",
      "\n",
      "\t\tOur recommended travel group:  THAILAND 2 \n",
      "\n",
      "                 me_place                        me_destination  \\\n",
      "749                Phuket                  Aussie Divers Phuket   \n",
      "1762               Phuket  Merlin Divers - Kamala Diving Center   \n",
      "464   Chiang Mai Province                   Eagle Track Zipline   \n",
      "735        Krabi Province             Emerald Pool (Sa Morakot)   \n",
      "2085       Krabi Province                            Tup Island   \n",
      "\n",
      "                    me_category                   me_sub_category  \\\n",
      "749   Boat Tours & Water Sports                Scuba & Snorkeling   \n",
      "1762  Boat Tours & Water Sports                Scuba & Snorkeling   \n",
      "464                       Tours  Zipline & Aerial Adventure Parks   \n",
      "735              Nature & Parks               Geologic Formations   \n",
      "2085             Nature & Parks                           Islands   \n",
      "\n",
      "      me_aggregate_score  \n",
      "749             0.195811  \n",
      "1762            0.193899  \n",
      "464             0.191067  \n",
      "735             0.180924  \n",
      "2085            0.175027  \n",
      "\n",
      "\n",
      "\n",
      "\t\tOur recommended travel group:  THAILAND 3 \n",
      "\n",
      "     me_place  me_destination me_category    me_sub_category  \\\n",
      "1962  Bangkok  Tour with Tong       Tours  Sightseeing Tours   \n",
      "\n",
      "      me_aggregate_score  \n",
      "1962            0.560313  \n",
      "\n",
      "\n",
      "\n",
      "\t\tOur recommended travel group:  THAILAND 4 \n",
      "\n",
      "               me_place          me_destination                me_category  \\\n",
      "1812  Chonburi Province  Koh Lan (Coral Island)             Nature & Parks   \n",
      "321              Phuket   John Gray's Sea Canoe  Boat Tours & Water Sports   \n",
      "\n",
      "              me_sub_category  me_aggregate_score  \n",
      "1812                  Islands            0.343160  \n",
      "321   Nature & Wildlife Tours            0.293697  \n",
      "\n",
      "\n",
      "\n",
      "\n",
      "\t Hoorah !!! its time for party, enjoy the recommendations\n"
     ]
    }
   ],
   "source": [
    "if __name__ == '__main__':\n",
    "    main(travel_df)"
   ]
  },
  {
   "cell_type": "code",
   "execution_count": null,
   "metadata": {
    "collapsed": true
   },
   "outputs": [],
   "source": []
  }
 ],
 "metadata": {
  "kernelspec": {
   "display_name": "Python 3",
   "language": "python",
   "name": "python3"
  },
  "language_info": {
   "codemirror_mode": {
    "name": "ipython",
    "version": 3
   },
   "file_extension": ".py",
   "mimetype": "text/x-python",
   "name": "python",
   "nbconvert_exporter": "python",
   "pygments_lexer": "ipython3",
   "version": "3.5.1"
  }
 },
 "nbformat": 4,
 "nbformat_minor": 0
}
